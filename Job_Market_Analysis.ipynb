{
 "cells": [
  {
   "cell_type": "markdown",
   "metadata": {},
   "source": [
    "## Job Market Analysis and Recommendation System"
   ]
  },
  {
   "cell_type": "markdown",
   "metadata": {},
   "source": [
    "### Objective\n",
    "\n",
    "##### The objective of this project is to analyze job market trends and build a recommendation system for job seekers based on real-time data. The system will identify high-demand job roles, salary trends, and emerging job categories, providing personalized job recommendations."
   ]
  },
  {
   "cell_type": "markdown",
   "metadata": {},
   "source": [
    "### Problem Statement\n",
    "\n",
    "##### The rapidly changing job market presents challenges for job seekers in identifying high-demand roles and negotiating competitive salaries. Traditional job search methods often fail to offer timely and personalized recommendations aligned with current market trends. There is a need for a data-driven approach to analyze job postings and extract meaningful insights to guide job seekers in their career decisions."
   ]
  },
  {
   "cell_type": "markdown",
   "metadata": {},
   "source": [
    "### Situational Overview\n",
    "\n",
    "##### The job market is influenced by various factors such as technological advancements, economic shifts, and cultural trends. By leveraging data analytics, this project aims to understand these dynamics and offer actionable insights. The system will analyze historical and current job postings data to provide predictions and recommendations that benefit job seekers and recruiters."
   ]
  },
  {
   "cell_type": "markdown",
   "metadata": {},
   "source": [
    "### Task 1: Analyze the correlation between job title keywords and offered salaries"
   ]
  },
  {
   "cell_type": "markdown",
   "metadata": {},
   "source": [
    "#### Import Libraries"
   ]
  },
  {
   "cell_type": "code",
   "execution_count": 115,
   "metadata": {},
   "outputs": [],
   "source": [
    "import pandas as pd\n",
    "import matplotlib.pyplot as plt\n",
    "import numpy as np\n",
    "import seaborn as sns\n",
    "from sklearn.feature_extraction.text import CountVectorizer"
   ]
  },
  {
   "cell_type": "markdown",
   "metadata": {},
   "source": [
    "#### Import Dataset"
   ]
  },
  {
   "cell_type": "code",
   "execution_count": 116,
   "metadata": {},
   "outputs": [],
   "source": [
    "job_market= pd.read_csv('all_upwork_jobs.csv')"
   ]
  },
  {
   "cell_type": "markdown",
   "metadata": {},
   "source": [
    "#### Read the Dataset"
   ]
  },
  {
   "cell_type": "code",
   "execution_count": 117,
   "metadata": {},
   "outputs": [
    {
     "data": {
      "text/html": [
       "<div>\n",
       "<style scoped>\n",
       "    .dataframe tbody tr th:only-of-type {\n",
       "        vertical-align: middle;\n",
       "    }\n",
       "\n",
       "    .dataframe tbody tr th {\n",
       "        vertical-align: top;\n",
       "    }\n",
       "\n",
       "    .dataframe thead th {\n",
       "        text-align: right;\n",
       "    }\n",
       "</style>\n",
       "<table border=\"1\" class=\"dataframe\">\n",
       "  <thead>\n",
       "    <tr style=\"text-align: right;\">\n",
       "      <th></th>\n",
       "      <th>title</th>\n",
       "      <th>link</th>\n",
       "      <th>published_date</th>\n",
       "      <th>is_hourly</th>\n",
       "      <th>hourly_low</th>\n",
       "      <th>hourly_high</th>\n",
       "      <th>budget</th>\n",
       "      <th>country</th>\n",
       "    </tr>\n",
       "  </thead>\n",
       "  <tbody>\n",
       "    <tr>\n",
       "      <th>0</th>\n",
       "      <td>Experienced Media Buyer For Solar Pannel and R...</td>\n",
       "      <td>https://www.upwork.com/jobs/Experienced-Media-...</td>\n",
       "      <td>2024-02-17 09:09:54+00:00</td>\n",
       "      <td>False</td>\n",
       "      <td>NaN</td>\n",
       "      <td>NaN</td>\n",
       "      <td>500.0</td>\n",
       "      <td>NaN</td>\n",
       "    </tr>\n",
       "    <tr>\n",
       "      <th>1</th>\n",
       "      <td>Full Stack Developer</td>\n",
       "      <td>https://www.upwork.com/jobs/Full-Stack-Develop...</td>\n",
       "      <td>2024-02-17 09:09:17+00:00</td>\n",
       "      <td>False</td>\n",
       "      <td>NaN</td>\n",
       "      <td>NaN</td>\n",
       "      <td>1100.0</td>\n",
       "      <td>United States</td>\n",
       "    </tr>\n",
       "    <tr>\n",
       "      <th>2</th>\n",
       "      <td>SMMA Bubble App</td>\n",
       "      <td>https://www.upwork.com/jobs/SMMA-Bubble-App_%7...</td>\n",
       "      <td>2024-02-17 09:08:46+00:00</td>\n",
       "      <td>True</td>\n",
       "      <td>10.0</td>\n",
       "      <td>30.0</td>\n",
       "      <td>NaN</td>\n",
       "      <td>United States</td>\n",
       "    </tr>\n",
       "    <tr>\n",
       "      <th>3</th>\n",
       "      <td>Talent Hunter Specialized in Marketing</td>\n",
       "      <td>https://www.upwork.com/jobs/Talent-Hunter-Spec...</td>\n",
       "      <td>2024-02-17 09:08:08+00:00</td>\n",
       "      <td>True</td>\n",
       "      <td>NaN</td>\n",
       "      <td>NaN</td>\n",
       "      <td>NaN</td>\n",
       "      <td>United States</td>\n",
       "    </tr>\n",
       "    <tr>\n",
       "      <th>4</th>\n",
       "      <td>Data Engineer</td>\n",
       "      <td>https://www.upwork.com/jobs/Data-Engineer_%7E0...</td>\n",
       "      <td>2024-02-17 09:07:42+00:00</td>\n",
       "      <td>False</td>\n",
       "      <td>NaN</td>\n",
       "      <td>NaN</td>\n",
       "      <td>650.0</td>\n",
       "      <td>India</td>\n",
       "    </tr>\n",
       "    <tr>\n",
       "      <th>...</th>\n",
       "      <td>...</td>\n",
       "      <td>...</td>\n",
       "      <td>...</td>\n",
       "      <td>...</td>\n",
       "      <td>...</td>\n",
       "      <td>...</td>\n",
       "      <td>...</td>\n",
       "      <td>...</td>\n",
       "    </tr>\n",
       "    <tr>\n",
       "      <th>244823</th>\n",
       "      <td>Need Facebook advertising experts to launch pr...</td>\n",
       "      <td>https://www.upwork.com/jobs/Need-Facebook-adve...</td>\n",
       "      <td>2024-03-24 13:28:38+00:00</td>\n",
       "      <td>True</td>\n",
       "      <td>20.0</td>\n",
       "      <td>100.0</td>\n",
       "      <td>NaN</td>\n",
       "      <td>Zambia</td>\n",
       "    </tr>\n",
       "    <tr>\n",
       "      <th>244824</th>\n",
       "      <td>Digital/Telemarketing/Sales/OutSide Sales</td>\n",
       "      <td>https://www.upwork.com/jobs/Digital-Telemarket...</td>\n",
       "      <td>2024-03-24 13:40:52+00:00</td>\n",
       "      <td>False</td>\n",
       "      <td>NaN</td>\n",
       "      <td>NaN</td>\n",
       "      <td>100.0</td>\n",
       "      <td>Sri Lanka</td>\n",
       "    </tr>\n",
       "    <tr>\n",
       "      <th>244825</th>\n",
       "      <td>WordPress Template Edits</td>\n",
       "      <td>https://www.upwork.com/jobs/WordPress-Template...</td>\n",
       "      <td>2024-03-24 13:37:50+00:00</td>\n",
       "      <td>True</td>\n",
       "      <td>5.0</td>\n",
       "      <td>30.0</td>\n",
       "      <td>NaN</td>\n",
       "      <td>United States</td>\n",
       "    </tr>\n",
       "    <tr>\n",
       "      <th>244826</th>\n",
       "      <td>ELEMENTOR PRO For quick fix (Wordpress)</td>\n",
       "      <td>https://www.upwork.com/jobs/ELEMENTOR-PRO-For-...</td>\n",
       "      <td>2024-03-24 13:52:15+00:00</td>\n",
       "      <td>False</td>\n",
       "      <td>NaN</td>\n",
       "      <td>NaN</td>\n",
       "      <td>15.0</td>\n",
       "      <td>France</td>\n",
       "    </tr>\n",
       "    <tr>\n",
       "      <th>244827</th>\n",
       "      <td>Creating a UGC Ad for Our Mobile Game</td>\n",
       "      <td>https://www.upwork.com/jobs/Creating-UGC-for-O...</td>\n",
       "      <td>2024-03-24 13:53:00+00:00</td>\n",
       "      <td>False</td>\n",
       "      <td>NaN</td>\n",
       "      <td>NaN</td>\n",
       "      <td>50.0</td>\n",
       "      <td>Israel</td>\n",
       "    </tr>\n",
       "  </tbody>\n",
       "</table>\n",
       "<p>244828 rows × 8 columns</p>\n",
       "</div>"
      ],
      "text/plain": [
       "                                                    title  \\\n",
       "0       Experienced Media Buyer For Solar Pannel and R...   \n",
       "1                                    Full Stack Developer   \n",
       "2                                         SMMA Bubble App   \n",
       "3                  Talent Hunter Specialized in Marketing   \n",
       "4                                           Data Engineer   \n",
       "...                                                   ...   \n",
       "244823  Need Facebook advertising experts to launch pr...   \n",
       "244824          Digital/Telemarketing/Sales/OutSide Sales   \n",
       "244825                           WordPress Template Edits   \n",
       "244826            ELEMENTOR PRO For quick fix (Wordpress)   \n",
       "244827              Creating a UGC Ad for Our Mobile Game   \n",
       "\n",
       "                                                     link  \\\n",
       "0       https://www.upwork.com/jobs/Experienced-Media-...   \n",
       "1       https://www.upwork.com/jobs/Full-Stack-Develop...   \n",
       "2       https://www.upwork.com/jobs/SMMA-Bubble-App_%7...   \n",
       "3       https://www.upwork.com/jobs/Talent-Hunter-Spec...   \n",
       "4       https://www.upwork.com/jobs/Data-Engineer_%7E0...   \n",
       "...                                                   ...   \n",
       "244823  https://www.upwork.com/jobs/Need-Facebook-adve...   \n",
       "244824  https://www.upwork.com/jobs/Digital-Telemarket...   \n",
       "244825  https://www.upwork.com/jobs/WordPress-Template...   \n",
       "244826  https://www.upwork.com/jobs/ELEMENTOR-PRO-For-...   \n",
       "244827  https://www.upwork.com/jobs/Creating-UGC-for-O...   \n",
       "\n",
       "                   published_date  is_hourly  hourly_low  hourly_high  budget  \\\n",
       "0       2024-02-17 09:09:54+00:00      False         NaN          NaN   500.0   \n",
       "1       2024-02-17 09:09:17+00:00      False         NaN          NaN  1100.0   \n",
       "2       2024-02-17 09:08:46+00:00       True        10.0         30.0     NaN   \n",
       "3       2024-02-17 09:08:08+00:00       True         NaN          NaN     NaN   \n",
       "4       2024-02-17 09:07:42+00:00      False         NaN          NaN   650.0   \n",
       "...                           ...        ...         ...          ...     ...   \n",
       "244823  2024-03-24 13:28:38+00:00       True        20.0        100.0     NaN   \n",
       "244824  2024-03-24 13:40:52+00:00      False         NaN          NaN   100.0   \n",
       "244825  2024-03-24 13:37:50+00:00       True         5.0         30.0     NaN   \n",
       "244826  2024-03-24 13:52:15+00:00      False         NaN          NaN    15.0   \n",
       "244827  2024-03-24 13:53:00+00:00      False         NaN          NaN    50.0   \n",
       "\n",
       "              country  \n",
       "0                 NaN  \n",
       "1       United States  \n",
       "2       United States  \n",
       "3       United States  \n",
       "4               India  \n",
       "...               ...  \n",
       "244823         Zambia  \n",
       "244824      Sri Lanka  \n",
       "244825  United States  \n",
       "244826         France  \n",
       "244827         Israel  \n",
       "\n",
       "[244828 rows x 8 columns]"
      ]
     },
     "execution_count": 117,
     "metadata": {},
     "output_type": "execute_result"
    }
   ],
   "source": [
    "job_market"
   ]
  },
  {
   "cell_type": "markdown",
   "metadata": {},
   "source": [
    "#### Finding the Null Values in dataset"
   ]
  },
  {
   "cell_type": "code",
   "execution_count": 118,
   "metadata": {},
   "outputs": [
    {
     "data": {
      "text/plain": [
       "title                  1\n",
       "link                   1\n",
       "published_date         0\n",
       "is_hourly              0\n",
       "hourly_low        142406\n",
       "hourly_high       146053\n",
       "budget            140937\n",
       "country             5077\n",
       "dtype: int64"
      ]
     },
     "execution_count": 118,
     "metadata": {},
     "output_type": "execute_result"
    }
   ],
   "source": [
    "job_market.isnull().sum()"
   ]
  },
  {
   "cell_type": "markdown",
   "metadata": {},
   "source": [
    "#### Drop unnessasary column"
   ]
  },
  {
   "cell_type": "code",
   "execution_count": 119,
   "metadata": {},
   "outputs": [
    {
     "data": {
      "text/html": [
       "<div>\n",
       "<style scoped>\n",
       "    .dataframe tbody tr th:only-of-type {\n",
       "        vertical-align: middle;\n",
       "    }\n",
       "\n",
       "    .dataframe tbody tr th {\n",
       "        vertical-align: top;\n",
       "    }\n",
       "\n",
       "    .dataframe thead th {\n",
       "        text-align: right;\n",
       "    }\n",
       "</style>\n",
       "<table border=\"1\" class=\"dataframe\">\n",
       "  <thead>\n",
       "    <tr style=\"text-align: right;\">\n",
       "      <th></th>\n",
       "      <th>title</th>\n",
       "      <th>link</th>\n",
       "      <th>published_date</th>\n",
       "      <th>is_hourly</th>\n",
       "      <th>hourly_low</th>\n",
       "      <th>hourly_high</th>\n",
       "      <th>budget</th>\n",
       "      <th>country</th>\n",
       "    </tr>\n",
       "  </thead>\n",
       "  <tbody>\n",
       "    <tr>\n",
       "      <th>38078</th>\n",
       "      <td>NaN</td>\n",
       "      <td>NaN</td>\n",
       "      <td>2024-02-20 16:28:05+00:00</td>\n",
       "      <td>True</td>\n",
       "      <td>NaN</td>\n",
       "      <td>NaN</td>\n",
       "      <td>NaN</td>\n",
       "      <td>NaN</td>\n",
       "    </tr>\n",
       "  </tbody>\n",
       "</table>\n",
       "</div>"
      ],
      "text/plain": [
       "      title link             published_date  is_hourly  hourly_low  \\\n",
       "38078   NaN  NaN  2024-02-20 16:28:05+00:00       True         NaN   \n",
       "\n",
       "       hourly_high  budget country  \n",
       "38078          NaN     NaN     NaN  "
      ]
     },
     "execution_count": 119,
     "metadata": {},
     "output_type": "execute_result"
    }
   ],
   "source": [
    "null_title = job_market[job_market['title'].isnull()]\n",
    "null_title"
   ]
  },
  {
   "cell_type": "code",
   "execution_count": 120,
   "metadata": {},
   "outputs": [],
   "source": [
    "job_market.drop(38078, inplace=True)"
   ]
  },
  {
   "cell_type": "markdown",
   "metadata": {},
   "source": [
    "### Fill null values with median in the budget column"
   ]
  },
  {
   "cell_type": "code",
   "execution_count": 121,
   "metadata": {},
   "outputs": [],
   "source": [
    "median_budget = job_market['budget'].median()\n",
    "job_market['budget'].fillna(median_budget, inplace=True)"
   ]
  },
  {
   "cell_type": "markdown",
   "metadata": {},
   "source": [
    "Fill null values with Not Applicable for Country Column"
   ]
  },
  {
   "cell_type": "code",
   "execution_count": 122,
   "metadata": {},
   "outputs": [],
   "source": [
    "job_market['country'].fillna('Not Applicable', inplace=True)"
   ]
  },
  {
   "cell_type": "code",
   "execution_count": 123,
   "metadata": {},
   "outputs": [
    {
     "data": {
      "text/plain": [
       "title                  0\n",
       "link                   0\n",
       "published_date         0\n",
       "is_hourly              0\n",
       "hourly_low        142405\n",
       "hourly_high       146052\n",
       "budget                 0\n",
       "country                0\n",
       "dtype: int64"
      ]
     },
     "execution_count": 123,
     "metadata": {},
     "output_type": "execute_result"
    }
   ],
   "source": [
    "job_market.isnull().sum()"
   ]
  },
  {
   "cell_type": "code",
   "execution_count": 124,
   "metadata": {},
   "outputs": [],
   "source": [
    "import nltk\n",
    "from nltk.corpus import stopwords\n",
    "from nltk.tokenize import word_tokenize\n",
    "from nltk.stem import WordNetLemmatizer"
   ]
  },
  {
   "cell_type": "code",
   "execution_count": 125,
   "metadata": {},
   "outputs": [
    {
     "name": "stderr",
     "output_type": "stream",
     "text": [
      "[nltk_data] Downloading package punkt to\n",
      "[nltk_data]     C:\\Users\\pooji\\AppData\\Roaming\\nltk_data...\n",
      "[nltk_data]   Package punkt is already up-to-date!\n",
      "[nltk_data] Downloading package stopwords to\n",
      "[nltk_data]     C:\\Users\\pooji\\AppData\\Roaming\\nltk_data...\n",
      "[nltk_data]   Package stopwords is already up-to-date!\n",
      "[nltk_data] Downloading package wordnet to\n",
      "[nltk_data]     C:\\Users\\pooji\\AppData\\Roaming\\nltk_data...\n",
      "[nltk_data]   Package wordnet is already up-to-date!\n"
     ]
    },
    {
     "data": {
      "text/plain": [
       "True"
      ]
     },
     "execution_count": 125,
     "metadata": {},
     "output_type": "execute_result"
    }
   ],
   "source": [
    "nltk.download('punkt')\n",
    "nltk.download('stopwords')\n",
    "nltk.download('wordnet')"
   ]
  },
  {
   "cell_type": "code",
   "execution_count": 126,
   "metadata": {},
   "outputs": [],
   "source": [
    "job_market['tokens']= job_market['title'].apply(word_tokenize)"
   ]
  },
  {
   "cell_type": "code",
   "execution_count": 127,
   "metadata": {},
   "outputs": [],
   "source": [
    "stop_words = set(stopwords.words('english'))\n",
    "job_market['tokens'] = job_market['title'].apply(lambda title: [word for word in title.split() if word.lower() not in stop_words])"
   ]
  },
  {
   "cell_type": "code",
   "execution_count": 128,
   "metadata": {},
   "outputs": [
    {
     "name": "stdout",
     "output_type": "stream",
     "text": [
      "                                               title  \\\n",
      "0  Experienced Media Buyer For Solar Pannel and R...   \n",
      "1                               Full Stack Developer   \n",
      "2                                    SMMA Bubble App   \n",
      "3             Talent Hunter Specialized in Marketing   \n",
      "4                                      Data Engineer   \n",
      "\n",
      "                                              tokens  \n",
      "0  [Experienced, Media, Buyer, Solar, Pannel, Roo...  \n",
      "1                           [Full, Stack, Developer]  \n",
      "2                                [SMMA, Bubble, App]  \n",
      "3           [Talent, Hunter, Specialized, Marketing]  \n",
      "4                                   [Data, Engineer]  \n"
     ]
    }
   ],
   "source": [
    "print(job_market[['title', 'tokens']].head())"
   ]
  },
  {
   "cell_type": "code",
   "execution_count": 129,
   "metadata": {},
   "outputs": [],
   "source": [
    "lemmatizer = WordNetLemmatizer()\n",
    "job_market['lemmatized_tokens']=job_market['tokens'].apply(lambda x: [lemmatizer.lemmatize(word) for word in x])"
   ]
  },
  {
   "cell_type": "code",
   "execution_count": 130,
   "metadata": {},
   "outputs": [
    {
     "name": "stdout",
     "output_type": "stream",
     "text": [
      "\n",
      "Caching the list of root modules, please wait!\n",
      "(This will only be done once - type '%rehashx' to reset cache!)\n",
      "\n"
     ]
    }
   ],
   "source": [
    "from sklearn.feature_extraction.text import CountVectorizer\n",
    "\n",
    "vectorizer = CountVectorizer()\n",
    "X = vectorizer.fit_transform(job_market['lemmatized_tokens'].apply(lambda x: ' '.join(x)))\n",
    "\n",
    "# Target variable\n",
    "y = job_market['budget']"
   ]
  },
  {
   "cell_type": "code",
   "execution_count": 131,
   "metadata": {},
   "outputs": [],
   "source": [
    "from sklearn.model_selection import train_test_split\n",
    "\n",
    "X_train, X_test, y_train, y_test = train_test_split(X, y, test_size=0.2, random_state=42)"
   ]
  },
  {
   "cell_type": "code",
   "execution_count": 132,
   "metadata": {},
   "outputs": [
    {
     "name": "stdout",
     "output_type": "stream",
     "text": [
      "\n",
      "Training set shape: (195861, 38692) (195861,)\n",
      "\n",
      "Testing set shape: (48966, 38692) (48966,)\n"
     ]
    }
   ],
   "source": [
    "print('\\nTraining set shape:', X_train.shape, y_train.shape)\n",
    "print('\\nTesting set shape:', X_test.shape, y_test.shape)"
   ]
  },
  {
   "cell_type": "code",
   "execution_count": 133,
   "metadata": {},
   "outputs": [],
   "source": [
    "import pandas as pd\n",
    "import matplotlib.pyplot as plt\n",
    "import seaborn as sns\n",
    "from sklearn.feature_extraction.text import CountVectorizer\n",
    "\n",
    "# Define the CountVectorizer\n",
    "vectorizer = CountVectorizer()\n",
    "\n",
    "# Transform the lemmatized tokens into a sparse matrix\n",
    "X_count = vectorizer.fit_transform(job_market['lemmatized_tokens'].apply(lambda x: ' '.join(x)))\n",
    "\n",
    "# Convert the sparse matrix to a DataFrame with sparse data types\n",
    "word_freq_df = pd.DataFrame.sparse.from_spmatrix(X_count, columns=vectorizer.get_feature_names_out())"
   ]
  },
  {
   "cell_type": "code",
   "execution_count": 134,
   "metadata": {},
   "outputs": [],
   "source": [
    "keyword_freq = word_freq_df.sum().sort_values(ascending=False).head(30)"
   ]
  },
  {
   "cell_type": "code",
   "execution_count": 135,
   "metadata": {},
   "outputs": [
    {
     "data": {
      "text/plain": [
       "needed         17591\n",
       "website        17445\n",
       "developer      16177\n",
       "video          15300\n",
       "expert         15104\n",
       "design         13506\n",
       "designer       13031\n",
       "need           10468\n",
       "amp             9690\n",
       "specialist      9060\n",
       "looking         8747\n",
       "marketing       8416\n",
       "app             8282\n",
       "editor          8123\n",
       "social          7660\n",
       "youtube         7659\n",
       "data            7161\n",
       "manager         6920\n",
       "create          6902\n",
       "content         6865\n",
       "wordpress       6787\n",
       "google          6744\n",
       "assistant       6704\n",
       "project         6468\n",
       "media           6454\n",
       "web             6380\n",
       "business        6310\n",
       "development     5956\n",
       "logo            5799\n",
       "graphic         5611\n",
       "dtype: Sparse[int64, 0]"
      ]
     },
     "execution_count": 135,
     "metadata": {},
     "output_type": "execute_result"
    }
   ],
   "source": [
    "keyword_freq"
   ]
  },
  {
   "cell_type": "code",
   "execution_count": 136,
   "metadata": {},
   "outputs": [
    {
     "data": {
      "image/png": "[encoded data removed]",
      "text/plain": [
       "<Figure size 800x600 with 1 Axes>"
      ]
     },
     "metadata": {},
     "output_type": "display_data"
    }
   ],
   "source": [
    "# Calculate the top 10 most common keywords\n",
    "keyword_freq = word_freq_df.sum().sort_values(ascending=False).head(10)\n",
    "\n",
    "# Create the plot\n",
    "plt.figure(figsize=(8, 6))\n",
    "sns.barplot(x=keyword_freq.values, y=keyword_freq.index, palette='viridis')\n",
    "plt.title('Top 10 Most Common Keywords')\n",
    "plt.xlabel('Frequency')\n",
    "plt.ylabel('Keyword')\n",
    "plt.show()"
   ]
  },
  {
   "cell_type": "code",
   "execution_count": 141,
   "metadata": {},
   "outputs": [
    {
     "data": {
      "text/html": [
       "<div>\n",
       "<style scoped>\n",
       "    .dataframe tbody tr th:only-of-type {\n",
       "        vertical-align: middle;\n",
       "    }\n",
       "\n",
       "    .dataframe tbody tr th {\n",
       "        vertical-align: top;\n",
       "    }\n",
       "\n",
       "    .dataframe thead th {\n",
       "        text-align: right;\n",
       "    }\n",
       "</style>\n",
       "<table border=\"1\" class=\"dataframe\">\n",
       "  <thead>\n",
       "    <tr style=\"text-align: right;\">\n",
       "      <th></th>\n",
       "      <th>title</th>\n",
       "      <th>link</th>\n",
       "      <th>published_date</th>\n",
       "      <th>is_hourly</th>\n",
       "      <th>hourly_low</th>\n",
       "      <th>hourly_high</th>\n",
       "      <th>budget</th>\n",
       "      <th>country</th>\n",
       "      <th>tokens</th>\n",
       "      <th>lemmatized_tokens</th>\n",
       "    </tr>\n",
       "  </thead>\n",
       "  <tbody>\n",
       "    <tr>\n",
       "      <th>0</th>\n",
       "      <td>Experienced Media Buyer For Solar Pannel and R...</td>\n",
       "      <td>https://www.upwork.com/jobs/Experienced-Media-...</td>\n",
       "      <td>2024-02-17 09:09:54+00:00</td>\n",
       "      <td>False</td>\n",
       "      <td>NaN</td>\n",
       "      <td>NaN</td>\n",
       "      <td>500.0</td>\n",
       "      <td>Not Applicable</td>\n",
       "      <td>[Experienced, Media, Buyer, Solar, Pannel, Roo...</td>\n",
       "      <td>[Experienced, Media, Buyer, Solar, Pannel, Roo...</td>\n",
       "    </tr>\n",
       "    <tr>\n",
       "      <th>1</th>\n",
       "      <td>Full Stack Developer</td>\n",
       "      <td>https://www.upwork.com/jobs/Full-Stack-Develop...</td>\n",
       "      <td>2024-02-17 09:09:17+00:00</td>\n",
       "      <td>False</td>\n",
       "      <td>NaN</td>\n",
       "      <td>NaN</td>\n",
       "      <td>1100.0</td>\n",
       "      <td>United States</td>\n",
       "      <td>[Full, Stack, Developer]</td>\n",
       "      <td>[Full, Stack, Developer]</td>\n",
       "    </tr>\n",
       "  </tbody>\n",
       "</table>\n",
       "</div>"
      ],
      "text/plain": [
       "                                               title  \\\n",
       "0  Experienced Media Buyer For Solar Pannel and R...   \n",
       "1                               Full Stack Developer   \n",
       "\n",
       "                                                link  \\\n",
       "0  https://www.upwork.com/jobs/Experienced-Media-...   \n",
       "1  https://www.upwork.com/jobs/Full-Stack-Develop...   \n",
       "\n",
       "              published_date  is_hourly  hourly_low  hourly_high  budget  \\\n",
       "0  2024-02-17 09:09:54+00:00      False         NaN          NaN   500.0   \n",
       "1  2024-02-17 09:09:17+00:00      False         NaN          NaN  1100.0   \n",
       "\n",
       "          country                                             tokens  \\\n",
       "0  Not Applicable  [Experienced, Media, Buyer, Solar, Pannel, Roo...   \n",
       "1   United States                           [Full, Stack, Developer]   \n",
       "\n",
       "                                   lemmatized_tokens  \n",
       "0  [Experienced, Media, Buyer, Solar, Pannel, Roo...  \n",
       "1                           [Full, Stack, Developer]  "
      ]
     },
     "execution_count": 141,
     "metadata": {},
     "output_type": "execute_result"
    }
   ],
   "source": [
    "job_market.head(2)"
   ]
  },
  {
   "cell_type": "code",
   "execution_count": 142,
   "metadata": {},
   "outputs": [],
   "source": [
    "from collections import defaultdict\n",
    "\n",
    "keyword_salary_data = defaultdict(lambda: {'salary_sum': 0, 'count': 0})\n",
    "\n",
    "# Calculate total salary and count for each keyword\n",
    "for index, row in job_market.iterrows():\n",
    "    budget = row['budget']\n",
    "    for keyword in row['tokens']:\n",
    "        keyword_salary_data[keyword]['salary_sum'] += budget\n",
    "        keyword_salary_data[keyword]['count'] += 1\n",
    "\n",
    "# Calculate average salary for each keyword\n",
    "keyword_avg_salary = {k: v['salary_sum'] / v['count'] for k, v in keyword_salary_data.items()}"
   ]
  },
  {
   "cell_type": "code",
   "execution_count": 147,
   "metadata": {},
   "outputs": [
    {
     "data": {
      "text/html": [
       "<div>\n",
       "<style scoped>\n",
       "    .dataframe tbody tr th:only-of-type {\n",
       "        vertical-align: middle;\n",
       "    }\n",
       "\n",
       "    .dataframe tbody tr th {\n",
       "        vertical-align: top;\n",
       "    }\n",
       "\n",
       "    .dataframe thead th {\n",
       "        text-align: right;\n",
       "    }\n",
       "</style>\n",
       "<table border=\"1\" class=\"dataframe\">\n",
       "  <thead>\n",
       "    <tr style=\"text-align: right;\">\n",
       "      <th></th>\n",
       "      <th>Keyword</th>\n",
       "      <th>Average_Salary</th>\n",
       "    </tr>\n",
       "  </thead>\n",
       "  <tbody>\n",
       "    <tr>\n",
       "      <th>83055</th>\n",
       "      <td>opportunities?</td>\n",
       "      <td>1000000.0</td>\n",
       "    </tr>\n",
       "    <tr>\n",
       "      <th>83056</th>\n",
       "      <td>Martkeplace</td>\n",
       "      <td>1000000.0</td>\n",
       "    </tr>\n",
       "    <tr>\n",
       "      <th>71693</th>\n",
       "      <td>⚠️</td>\n",
       "      <td>1000000.0</td>\n",
       "    </tr>\n",
       "    <tr>\n",
       "      <th>83054</th>\n",
       "      <td>independence</td>\n",
       "      <td>1000000.0</td>\n",
       "    </tr>\n",
       "    <tr>\n",
       "      <th>88274</th>\n",
       "      <td>$1M/Month</td>\n",
       "      <td>1000000.0</td>\n",
       "    </tr>\n",
       "    <tr>\n",
       "      <th>48261</th>\n",
       "      <td>FBM)</td>\n",
       "      <td>999999.0</td>\n",
       "    </tr>\n",
       "    <tr>\n",
       "      <th>72208</th>\n",
       "      <td>token-2022</td>\n",
       "      <td>999999.0</td>\n",
       "    </tr>\n",
       "    <tr>\n",
       "      <th>87608</th>\n",
       "      <td>Webseries</td>\n",
       "      <td>600000.0</td>\n",
       "    </tr>\n",
       "    <tr>\n",
       "      <th>85786</th>\n",
       "      <td>representant</td>\n",
       "      <td>400000.0</td>\n",
       "    </tr>\n",
       "    <tr>\n",
       "      <th>43844</th>\n",
       "      <td>counsellor</td>\n",
       "      <td>400000.0</td>\n",
       "    </tr>\n",
       "  </tbody>\n",
       "</table>\n",
       "</div>"
      ],
      "text/plain": [
       "              Keyword  Average_Salary\n",
       "83055  opportunities?       1000000.0\n",
       "83056     Martkeplace       1000000.0\n",
       "71693              ⚠️       1000000.0\n",
       "83054    independence       1000000.0\n",
       "88274       $1M/Month       1000000.0\n",
       "48261            FBM)        999999.0\n",
       "72208      token-2022        999999.0\n",
       "87608       Webseries        600000.0\n",
       "85786    representant        400000.0\n",
       "43844      counsellor        400000.0"
      ]
     },
     "execution_count": 147,
     "metadata": {},
     "output_type": "execute_result"
    }
   ],
   "source": [
    "keyword_salary_df = pd.DataFrame(keyword_avg_salary.items(), columns=['Keyword', 'Average_Salary'])\n",
    "keyword_salary_df = keyword_salary_df.sort_values(by='Average_Salary', ascending=False).round(2)\n",
    "keyword_salary_df.head(10)"
   ]
  },
  {
   "cell_type": "code",
   "execution_count": 151,
   "metadata": {},
   "outputs": [
    {
     "data": {
      "image/png": "[encoded data removed]",
      "text/plain": [
       "<Figure size 1200x600 with 1 Axes>"
      ]
     },
     "metadata": {},
     "output_type": "display_data"
    }
   ],
   "source": [
    "plt.figure(figsize=(12, 6))\n",
    "sns.barplot(data=keyword_salary_df.head(10), x='Keyword', y='Average_Salary', palette='viridis')\n",
    "plt.title('Top 10 Keywords by Average Salary')\n",
    "plt.xlabel('Keyword')\n",
    "plt.ylabel('Average Salary')\n",
    "plt.xticks(rotation=45)\n",
    "plt.show()"
   ]
  },
  {
   "cell_type": "code",
   "execution_count": null,
   "metadata": {},
   "outputs": [],
   "source": []
  }
 ],
 "metadata": {
  "kernelspec": {
   "display_name": "base",
   "language": "python",
   "name": "python3"
  },
  "language_info": {
   "codemirror_mode": {
    "name": "ipython",
    "version": 3
   },
   "file_extension": ".py",
   "mimetype": "text/x-python",
   "name": "python",
   "nbconvert_exporter": "python",
   "pygments_lexer": "ipython3",
   "version": "3.11.7"
  }
 },
 "nbformat": 4,
 "nbformat_minor": 2
}
