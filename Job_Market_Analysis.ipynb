{
 "cells": [
  {
   "cell_type": "markdown",
   "metadata": {},
   "source": [
    "## Job Market Analysis and Recommendation System"
   ]
  },
  {
   "cell_type": "markdown",
   "metadata": {},
   "source": [
    "### Objective\n",
    "\n",
    "##### The objective of this project is to analyze job market trends and build a recommendation system for job seekers based on real-time data. The system will identify high-demand job roles, salary trends, and emerging job categories, providing personalized job recommendations."
   ]
  },
  {
   "cell_type": "markdown",
   "metadata": {},
   "source": [
    "### Problem Statement\n",
    "\n",
    "##### The rapidly changing job market presents challenges for job seekers in identifying high-demand roles and negotiating competitive salaries. Traditional job search methods often fail to offer timely and personalized recommendations aligned with current market trends. There is a need for a data-driven approach to analyze job postings and extract meaningful insights to guide job seekers in their career decisions."
   ]
  },
  {
   "cell_type": "markdown",
   "metadata": {},
   "source": [
    "### Situational Overview\n",
    "\n",
    "##### The job market is influenced by various factors such as technological advancements, economic shifts, and cultural trends. By leveraging data analytics, this project aims to understand these dynamics and offer actionable insights. The system will analyze historical and current job postings data to provide predictions and recommendations that benefit job seekers and recruiters."
   ]
  },
  {
   "cell_type": "markdown",
   "metadata": {},
   "source": [
    "### Task 1: Analyze the correlation between job title keywords and offered salaries"
   ]
  },
  {
   "cell_type": "markdown",
   "metadata": {},
   "source": [
    "#### Import Libraries"
   ]
  },
  {
   "cell_type": "code",
   "execution_count": 16,
   "metadata": {},
   "outputs": [],
   "source": [
    "import pandas as pd\n",
    "import matplotlib.pyplot as plt\n",
    "import numpy as np\n",
    "import seaborn as sns"
   ]
  },
  {
   "cell_type": "markdown",
   "metadata": {},
   "source": [
    "#### Import Dataset"
   ]
  },
  {
   "cell_type": "code",
   "execution_count": 17,
   "metadata": {},
   "outputs": [],
   "source": [
    "job_market= pd.read_csv('all_upwork_jobs.csv')"
   ]
  },
  {
   "cell_type": "markdown",
   "metadata": {},
   "source": [
    "#### Read the Dataset"
   ]
  },
  {
   "cell_type": "code",
   "execution_count": 18,
   "metadata": {},
   "outputs": [
    {
     "data": {
      "text/html": [
       "<div>\n",
       "<style scoped>\n",
       "    .dataframe tbody tr th:only-of-type {\n",
       "        vertical-align: middle;\n",
       "    }\n",
       "\n",
       "    .dataframe tbody tr th {\n",
       "        vertical-align: top;\n",
       "    }\n",
       "\n",
       "    .dataframe thead th {\n",
       "        text-align: right;\n",
       "    }\n",
       "</style>\n",
       "<table border=\"1\" class=\"dataframe\">\n",
       "  <thead>\n",
       "    <tr style=\"text-align: right;\">\n",
       "      <th></th>\n",
       "      <th>title</th>\n",
       "      <th>link</th>\n",
       "      <th>published_date</th>\n",
       "      <th>is_hourly</th>\n",
       "      <th>hourly_low</th>\n",
       "      <th>hourly_high</th>\n",
       "      <th>budget</th>\n",
       "      <th>country</th>\n",
       "    </tr>\n",
       "  </thead>\n",
       "  <tbody>\n",
       "    <tr>\n",
       "      <th>0</th>\n",
       "      <td>Experienced Media Buyer For Solar Pannel and R...</td>\n",
       "      <td>https://www.upwork.com/jobs/Experienced-Media-...</td>\n",
       "      <td>2024-02-17 09:09:54+00:00</td>\n",
       "      <td>False</td>\n",
       "      <td>NaN</td>\n",
       "      <td>NaN</td>\n",
       "      <td>500.0</td>\n",
       "      <td>NaN</td>\n",
       "    </tr>\n",
       "    <tr>\n",
       "      <th>1</th>\n",
       "      <td>Full Stack Developer</td>\n",
       "      <td>https://www.upwork.com/jobs/Full-Stack-Develop...</td>\n",
       "      <td>2024-02-17 09:09:17+00:00</td>\n",
       "      <td>False</td>\n",
       "      <td>NaN</td>\n",
       "      <td>NaN</td>\n",
       "      <td>1100.0</td>\n",
       "      <td>United States</td>\n",
       "    </tr>\n",
       "    <tr>\n",
       "      <th>2</th>\n",
       "      <td>SMMA Bubble App</td>\n",
       "      <td>https://www.upwork.com/jobs/SMMA-Bubble-App_%7...</td>\n",
       "      <td>2024-02-17 09:08:46+00:00</td>\n",
       "      <td>True</td>\n",
       "      <td>10.0</td>\n",
       "      <td>30.0</td>\n",
       "      <td>NaN</td>\n",
       "      <td>United States</td>\n",
       "    </tr>\n",
       "    <tr>\n",
       "      <th>3</th>\n",
       "      <td>Talent Hunter Specialized in Marketing</td>\n",
       "      <td>https://www.upwork.com/jobs/Talent-Hunter-Spec...</td>\n",
       "      <td>2024-02-17 09:08:08+00:00</td>\n",
       "      <td>True</td>\n",
       "      <td>NaN</td>\n",
       "      <td>NaN</td>\n",
       "      <td>NaN</td>\n",
       "      <td>United States</td>\n",
       "    </tr>\n",
       "    <tr>\n",
       "      <th>4</th>\n",
       "      <td>Data Engineer</td>\n",
       "      <td>https://www.upwork.com/jobs/Data-Engineer_%7E0...</td>\n",
       "      <td>2024-02-17 09:07:42+00:00</td>\n",
       "      <td>False</td>\n",
       "      <td>NaN</td>\n",
       "      <td>NaN</td>\n",
       "      <td>650.0</td>\n",
       "      <td>India</td>\n",
       "    </tr>\n",
       "    <tr>\n",
       "      <th>...</th>\n",
       "      <td>...</td>\n",
       "      <td>...</td>\n",
       "      <td>...</td>\n",
       "      <td>...</td>\n",
       "      <td>...</td>\n",
       "      <td>...</td>\n",
       "      <td>...</td>\n",
       "      <td>...</td>\n",
       "    </tr>\n",
       "    <tr>\n",
       "      <th>244823</th>\n",
       "      <td>Need Facebook advertising experts to launch pr...</td>\n",
       "      <td>https://www.upwork.com/jobs/Need-Facebook-adve...</td>\n",
       "      <td>2024-03-24 13:28:38+00:00</td>\n",
       "      <td>True</td>\n",
       "      <td>20.0</td>\n",
       "      <td>100.0</td>\n",
       "      <td>NaN</td>\n",
       "      <td>Zambia</td>\n",
       "    </tr>\n",
       "    <tr>\n",
       "      <th>244824</th>\n",
       "      <td>Digital/Telemarketing/Sales/OutSide Sales</td>\n",
       "      <td>https://www.upwork.com/jobs/Digital-Telemarket...</td>\n",
       "      <td>2024-03-24 13:40:52+00:00</td>\n",
       "      <td>False</td>\n",
       "      <td>NaN</td>\n",
       "      <td>NaN</td>\n",
       "      <td>100.0</td>\n",
       "      <td>Sri Lanka</td>\n",
       "    </tr>\n",
       "    <tr>\n",
       "      <th>244825</th>\n",
       "      <td>WordPress Template Edits</td>\n",
       "      <td>https://www.upwork.com/jobs/WordPress-Template...</td>\n",
       "      <td>2024-03-24 13:37:50+00:00</td>\n",
       "      <td>True</td>\n",
       "      <td>5.0</td>\n",
       "      <td>30.0</td>\n",
       "      <td>NaN</td>\n",
       "      <td>United States</td>\n",
       "    </tr>\n",
       "    <tr>\n",
       "      <th>244826</th>\n",
       "      <td>ELEMENTOR PRO For quick fix (Wordpress)</td>\n",
       "      <td>https://www.upwork.com/jobs/ELEMENTOR-PRO-For-...</td>\n",
       "      <td>2024-03-24 13:52:15+00:00</td>\n",
       "      <td>False</td>\n",
       "      <td>NaN</td>\n",
       "      <td>NaN</td>\n",
       "      <td>15.0</td>\n",
       "      <td>France</td>\n",
       "    </tr>\n",
       "    <tr>\n",
       "      <th>244827</th>\n",
       "      <td>Creating a UGC Ad for Our Mobile Game</td>\n",
       "      <td>https://www.upwork.com/jobs/Creating-UGC-for-O...</td>\n",
       "      <td>2024-03-24 13:53:00+00:00</td>\n",
       "      <td>False</td>\n",
       "      <td>NaN</td>\n",
       "      <td>NaN</td>\n",
       "      <td>50.0</td>\n",
       "      <td>Israel</td>\n",
       "    </tr>\n",
       "  </tbody>\n",
       "</table>\n",
       "<p>244828 rows × 8 columns</p>\n",
       "</div>"
      ],
      "text/plain": [
       "                                                    title  \\\n",
       "0       Experienced Media Buyer For Solar Pannel and R...   \n",
       "1                                    Full Stack Developer   \n",
       "2                                         SMMA Bubble App   \n",
       "3                  Talent Hunter Specialized in Marketing   \n",
       "4                                           Data Engineer   \n",
       "...                                                   ...   \n",
       "244823  Need Facebook advertising experts to launch pr...   \n",
       "244824          Digital/Telemarketing/Sales/OutSide Sales   \n",
       "244825                           WordPress Template Edits   \n",
       "244826            ELEMENTOR PRO For quick fix (Wordpress)   \n",
       "244827              Creating a UGC Ad for Our Mobile Game   \n",
       "\n",
       "                                                     link  \\\n",
       "0       https://www.upwork.com/jobs/Experienced-Media-...   \n",
       "1       https://www.upwork.com/jobs/Full-Stack-Develop...   \n",
       "2       https://www.upwork.com/jobs/SMMA-Bubble-App_%7...   \n",
       "3       https://www.upwork.com/jobs/Talent-Hunter-Spec...   \n",
       "4       https://www.upwork.com/jobs/Data-Engineer_%7E0...   \n",
       "...                                                   ...   \n",
       "244823  https://www.upwork.com/jobs/Need-Facebook-adve...   \n",
       "244824  https://www.upwork.com/jobs/Digital-Telemarket...   \n",
       "244825  https://www.upwork.com/jobs/WordPress-Template...   \n",
       "244826  https://www.upwork.com/jobs/ELEMENTOR-PRO-For-...   \n",
       "244827  https://www.upwork.com/jobs/Creating-UGC-for-O...   \n",
       "\n",
       "                   published_date  is_hourly  hourly_low  hourly_high  budget  \\\n",
       "0       2024-02-17 09:09:54+00:00      False         NaN          NaN   500.0   \n",
       "1       2024-02-17 09:09:17+00:00      False         NaN          NaN  1100.0   \n",
       "2       2024-02-17 09:08:46+00:00       True        10.0         30.0     NaN   \n",
       "3       2024-02-17 09:08:08+00:00       True         NaN          NaN     NaN   \n",
       "4       2024-02-17 09:07:42+00:00      False         NaN          NaN   650.0   \n",
       "...                           ...        ...         ...          ...     ...   \n",
       "244823  2024-03-24 13:28:38+00:00       True        20.0        100.0     NaN   \n",
       "244824  2024-03-24 13:40:52+00:00      False         NaN          NaN   100.0   \n",
       "244825  2024-03-24 13:37:50+00:00       True         5.0         30.0     NaN   \n",
       "244826  2024-03-24 13:52:15+00:00      False         NaN          NaN    15.0   \n",
       "244827  2024-03-24 13:53:00+00:00      False         NaN          NaN    50.0   \n",
       "\n",
       "              country  \n",
       "0                 NaN  \n",
       "1       United States  \n",
       "2       United States  \n",
       "3       United States  \n",
       "4               India  \n",
       "...               ...  \n",
       "244823         Zambia  \n",
       "244824      Sri Lanka  \n",
       "244825  United States  \n",
       "244826         France  \n",
       "244827         Israel  \n",
       "\n",
       "[244828 rows x 8 columns]"
      ]
     },
     "execution_count": 18,
     "metadata": {},
     "output_type": "execute_result"
    }
   ],
   "source": [
    "job_market"
   ]
  },
  {
   "cell_type": "markdown",
   "metadata": {},
   "source": [
    "#### Finding the Null Values in dataset"
   ]
  },
  {
   "cell_type": "code",
   "execution_count": 19,
   "metadata": {},
   "outputs": [
    {
     "data": {
      "text/plain": [
       "title                  1\n",
       "link                   1\n",
       "published_date         0\n",
       "is_hourly              0\n",
       "hourly_low        142406\n",
       "hourly_high       146053\n",
       "budget            140937\n",
       "country             5077\n",
       "dtype: int64"
      ]
     },
     "execution_count": 19,
     "metadata": {},
     "output_type": "execute_result"
    }
   ],
   "source": [
    "job_market.isnull().sum()"
   ]
  },
  {
   "cell_type": "markdown",
   "metadata": {},
   "source": [
    "#### Drop unnessasary column"
   ]
  },
  {
   "cell_type": "code",
   "execution_count": 20,
   "metadata": {},
   "outputs": [
    {
     "data": {
      "text/html": [
       "<div>\n",
       "<style scoped>\n",
       "    .dataframe tbody tr th:only-of-type {\n",
       "        vertical-align: middle;\n",
       "    }\n",
       "\n",
       "    .dataframe tbody tr th {\n",
       "        vertical-align: top;\n",
       "    }\n",
       "\n",
       "    .dataframe thead th {\n",
       "        text-align: right;\n",
       "    }\n",
       "</style>\n",
       "<table border=\"1\" class=\"dataframe\">\n",
       "  <thead>\n",
       "    <tr style=\"text-align: right;\">\n",
       "      <th></th>\n",
       "      <th>title</th>\n",
       "      <th>link</th>\n",
       "      <th>published_date</th>\n",
       "      <th>is_hourly</th>\n",
       "      <th>hourly_low</th>\n",
       "      <th>hourly_high</th>\n",
       "      <th>budget</th>\n",
       "      <th>country</th>\n",
       "    </tr>\n",
       "  </thead>\n",
       "  <tbody>\n",
       "    <tr>\n",
       "      <th>38078</th>\n",
       "      <td>NaN</td>\n",
       "      <td>NaN</td>\n",
       "      <td>2024-02-20 16:28:05+00:00</td>\n",
       "      <td>True</td>\n",
       "      <td>NaN</td>\n",
       "      <td>NaN</td>\n",
       "      <td>NaN</td>\n",
       "      <td>NaN</td>\n",
       "    </tr>\n",
       "  </tbody>\n",
       "</table>\n",
       "</div>"
      ],
      "text/plain": [
       "      title link             published_date  is_hourly  hourly_low  \\\n",
       "38078   NaN  NaN  2024-02-20 16:28:05+00:00       True         NaN   \n",
       "\n",
       "       hourly_high  budget country  \n",
       "38078          NaN     NaN     NaN  "
      ]
     },
     "execution_count": 20,
     "metadata": {},
     "output_type": "execute_result"
    }
   ],
   "source": [
    "null_title = job_market[job_market['title'].isnull()]\n",
    "null_title"
   ]
  },
  {
   "cell_type": "code",
   "execution_count": 21,
   "metadata": {},
   "outputs": [],
   "source": [
    "job_market.drop(38078, inplace=True)"
   ]
  },
  {
   "cell_type": "markdown",
   "metadata": {},
   "source": [
    "### Fill null values with median in the budget column"
   ]
  },
  {
   "cell_type": "code",
   "execution_count": 23,
   "metadata": {},
   "outputs": [],
   "source": [
    "median_budget = job_market['budget'].median()\n",
    "job_market['budget'].fillna(median_budget, inplace=True)"
   ]
  },
  {
   "cell_type": "markdown",
   "metadata": {},
   "source": [
    "Fill null values with Not Applicable for Country Column"
   ]
  },
  {
   "cell_type": "code",
   "execution_count": 25,
   "metadata": {},
   "outputs": [],
   "source": [
    "job_market['country'].fillna('Not Applicable', inplace=True)"
   ]
  },
  {
   "cell_type": "code",
   "execution_count": 26,
   "metadata": {},
   "outputs": [
    {
     "data": {
      "text/plain": [
       "title                  0\n",
       "link                   0\n",
       "published_date         0\n",
       "is_hourly              0\n",
       "hourly_low        142405\n",
       "hourly_high       146052\n",
       "budget                 0\n",
       "country                0\n",
       "dtype: int64"
      ]
     },
     "execution_count": 26,
     "metadata": {},
     "output_type": "execute_result"
    }
   ],
   "source": [
    "job_market.isnull().sum()"
   ]
  },
  {
   "cell_type": "code",
   "execution_count": null,
   "metadata": {},
   "outputs": [],
   "source": []
  }
 ],
 "metadata": {
  "kernelspec": {
   "display_name": "base",
   "language": "python",
   "name": "python3"
  },
  "language_info": {
   "codemirror_mode": {
    "name": "ipython",
    "version": 3
   },
   "file_extension": ".py",
   "mimetype": "text/x-python",
   "name": "python",
   "nbconvert_exporter": "python",
   "pygments_lexer": "ipython3",
   "version": "3.11.7"
  }
 },
 "nbformat": 4,
 "nbformat_minor": 2
}
